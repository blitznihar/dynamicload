{
 "cells": [
  {
   "cell_type": "code",
   "execution_count": 26,
   "metadata": {},
   "outputs": [
    {
     "data": {
      "application/vnd.jupyter.widget-view+json": {
       "model_id": "5938d8a7d1d4494699134bc5bdaf0dd8",
       "version_major": 2,
       "version_minor": 0
      },
      "text/plain": [
       "HBox(children=(Dropdown(description='Interface:', options=('LAWSON-0005', 'LAWSON-0006', 'LAWSON-0007'), value…"
      ]
     },
     "metadata": {},
     "output_type": "display_data"
    }
   ],
   "source": [
    "import ipywidgets as widgets\n",
    "from IPython.display import display\n",
    "\n",
    "# Create a dropdown widget for environment selection\n",
    "interface_dropdown = widgets.Dropdown(\n",
    "    options=[\"LAWSON-0005\", \"LAWSON-0006\", \"LAWSON-0007\"],\n",
    "    value=\"LAWSON-0005\",\n",
    "    description=\"Interface:\",\n",
    ")\n",
    "\n",
    "#outputdirectory = widgets.Text(\"testdata\")\n",
    "\n",
    "# Display the widget\n",
    "# display(widgets.HBox([interface_dropdown, outputdirectory]))\n",
    "display(widgets.HBox([interface_dropdown]))"
   ]
  },
  {
   "cell_type": "markdown",
   "metadata": {},
   "source": [
    "### Read Configuration Data"
   ]
  },
  {
   "cell_type": "code",
   "execution_count": 27,
   "metadata": {},
   "outputs": [
    {
     "data": {
      "text/html": [
       "<div>\n",
       "<style scoped>\n",
       "    .dataframe tbody tr th:only-of-type {\n",
       "        vertical-align: middle;\n",
       "    }\n",
       "\n",
       "    .dataframe tbody tr th {\n",
       "        vertical-align: top;\n",
       "    }\n",
       "\n",
       "    .dataframe thead th {\n",
       "        text-align: right;\n",
       "    }\n",
       "</style>\n",
       "<table border=\"1\" class=\"dataframe\">\n",
       "  <thead>\n",
       "    <tr style=\"text-align: right;\">\n",
       "      <th></th>\n",
       "      <th>InterfaceID</th>\n",
       "      <th>Source</th>\n",
       "      <th>SourceType</th>\n",
       "      <th>SourcePath</th>\n",
       "      <th>Destination</th>\n",
       "      <th>DestinationType</th>\n",
       "      <th>DestinationPath</th>\n",
       "      <th>Program</th>\n",
       "      <th>MappingID</th>\n",
       "      <th>Description</th>\n",
       "    </tr>\n",
       "  </thead>\n",
       "  <tbody>\n",
       "    <tr>\n",
       "      <th>0</th>\n",
       "      <td>LAWSON-0005</td>\n",
       "      <td>File</td>\n",
       "      <td>None</td>\n",
       "      <td>None</td>\n",
       "      <td>Database</td>\n",
       "      <td>None</td>\n",
       "      <td>None</td>\n",
       "      <td>FileToTable</td>\n",
       "      <td>MAPPING-0001</td>\n",
       "      <td>Testing Concept</td>\n",
       "    </tr>\n",
       "  </tbody>\n",
       "</table>\n",
       "</div>"
      ],
      "text/plain": [
       "   InterfaceID Source SourceType SourcePath Destination DestinationType  \\\n",
       "0  LAWSON-0005   File       None       None    Database            None   \n",
       "\n",
       "  DestinationPath      Program     MappingID      Description  \n",
       "0            None  FileToTable  MAPPING-0001  Testing Concept  "
      ]
     },
     "metadata": {},
     "output_type": "display_data"
    },
    {
     "data": {
      "text/html": [
       "<div>\n",
       "<style scoped>\n",
       "    .dataframe tbody tr th:only-of-type {\n",
       "        vertical-align: middle;\n",
       "    }\n",
       "\n",
       "    .dataframe tbody tr th {\n",
       "        vertical-align: top;\n",
       "    }\n",
       "\n",
       "    .dataframe thead th {\n",
       "        text-align: right;\n",
       "    }\n",
       "</style>\n",
       "<table border=\"1\" class=\"dataframe\">\n",
       "  <thead>\n",
       "    <tr style=\"text-align: right;\">\n",
       "      <th></th>\n",
       "      <th>MappingID</th>\n",
       "      <th>SourceField</th>\n",
       "      <th>SourceType</th>\n",
       "      <th>Start</th>\n",
       "      <th>SourceLength</th>\n",
       "      <th>Destination</th>\n",
       "      <th>DestinationType</th>\n",
       "      <th>DestinationLength</th>\n",
       "      <th>MappingFunction</th>\n",
       "    </tr>\n",
       "  </thead>\n",
       "  <tbody>\n",
       "    <tr>\n",
       "      <th>0</th>\n",
       "      <td>MAPPING-0001</td>\n",
       "      <td>ID</td>\n",
       "      <td>FIXED</td>\n",
       "      <td>0</td>\n",
       "      <td>4</td>\n",
       "      <td>ID</td>\n",
       "      <td>INT</td>\n",
       "      <td>NaN</td>\n",
       "      <td>PASSTHROUGH</td>\n",
       "    </tr>\n",
       "    <tr>\n",
       "      <th>1</th>\n",
       "      <td>MAPPING-0001</td>\n",
       "      <td>Name</td>\n",
       "      <td>FIXED</td>\n",
       "      <td>4</td>\n",
       "      <td>14</td>\n",
       "      <td>Name</td>\n",
       "      <td>VARCHAR</td>\n",
       "      <td>50.0</td>\n",
       "      <td>PASSTHROUGH</td>\n",
       "    </tr>\n",
       "    <tr>\n",
       "      <th>2</th>\n",
       "      <td>MAPPING-0001</td>\n",
       "      <td>Date</td>\n",
       "      <td>FIXED</td>\n",
       "      <td>18</td>\n",
       "      <td>8</td>\n",
       "      <td>Date</td>\n",
       "      <td>DATE</td>\n",
       "      <td>NaN</td>\n",
       "      <td>PASSTHROUGH</td>\n",
       "    </tr>\n",
       "    <tr>\n",
       "      <th>3</th>\n",
       "      <td>MAPPING-0001</td>\n",
       "      <td>Amount</td>\n",
       "      <td>FIXED</td>\n",
       "      <td>26</td>\n",
       "      <td>8</td>\n",
       "      <td>Amount</td>\n",
       "      <td>FLOAT</td>\n",
       "      <td>2.0</td>\n",
       "      <td>PASSTHROUGH</td>\n",
       "    </tr>\n",
       "  </tbody>\n",
       "</table>\n",
       "</div>"
      ],
      "text/plain": [
       "      MappingID SourceField SourceType  Start  SourceLength Destination  \\\n",
       "0  MAPPING-0001          ID      FIXED      0             4          ID   \n",
       "1  MAPPING-0001        Name      FIXED      4            14        Name   \n",
       "2  MAPPING-0001        Date      FIXED     18             8        Date   \n",
       "3  MAPPING-0001      Amount      FIXED     26             8      Amount   \n",
       "\n",
       "  DestinationType  DestinationLength MappingFunction  \n",
       "0             INT                NaN     PASSTHROUGH  \n",
       "1         VARCHAR               50.0     PASSTHROUGH  \n",
       "2            DATE                NaN     PASSTHROUGH  \n",
       "3           FLOAT                2.0     PASSTHROUGH  "
      ]
     },
     "metadata": {},
     "output_type": "display_data"
    }
   ],
   "source": [
    "from sqlalchemy import create_engine\n",
    "import pandas as pd\n",
    "# Database connection parameters\n",
    "db_user = 'root'\n",
    "db_password = 'strong_password'\n",
    "db_host = 'localhost'\n",
    "db_name = 'yourdb'\n",
    "db_port = 33062\n",
    "interface_id = interface_dropdown.value\n",
    "\n",
    "# Create a database connection\n",
    "engine = create_engine(f'mysql+pymysql://{db_user}:{db_password}@{db_host}:{db_port}/{db_name}')\n",
    "\n",
    "# Query to read data for a specific interfaceID\n",
    "queryInterface = f\"SELECT * FROM interface WHERE interfaceID = '{interface_id}'\"\n",
    "\n",
    "# Load data into dataframe\n",
    "dfInterface = pd.read_sql(queryInterface, engine)\n",
    "\n",
    "mappingId = dfInterface['MappingID'].astype(str).to_string(index=False)\n",
    "\n",
    "# Query to read data for a specific interfaceID\n",
    "queryMapping = f\"SELECT * FROM mapping WHERE mappingID = '{mappingId}'\"\n",
    "\n",
    "# Load data into dataframe\n",
    "dfMapping = pd.read_sql(queryMapping, engine)\n",
    "\n",
    "display(dfInterface)\n",
    "display(dfMapping)"
   ]
  },
  {
   "cell_type": "markdown",
   "metadata": {},
   "source": [
    "#### Read Fixed Length File"
   ]
  },
  {
   "cell_type": "code",
   "execution_count": 28,
   "metadata": {},
   "outputs": [
    {
     "name": "stdout",
     "output_type": "stream",
     "text": [
      "     ID         Name      Date   Amount\n",
      "0  1234     John Doe  20231231   100.00\n",
      "1  5678   Jane Smith  20240115   200.50\n",
      "2  9012  Peter Jones  20240229    50.25\n",
      "3  3456   Mary Brown  20240315  4000.75\n"
     ]
    }
   ],
   "source": [
    "import pandas as pd\n",
    "\n",
    "colspecs = [(row['Start'], row['Start'] + row['SourceLength']) for index, row in dfMapping.iterrows()]\n",
    "names = dfMapping['SourceField'].tolist()  # Column names\n",
    "dfSource = pd.read_fwf('SourceFileFixedWidth.dat', colspecs=colspecs, names=names, header=None)\n",
    "\n",
    "print(dfSource)"
   ]
  },
  {
   "cell_type": "markdown",
   "metadata": {},
   "source": [
    "#### Map to Destination"
   ]
  },
  {
   "cell_type": "code",
   "execution_count": 29,
   "metadata": {},
   "outputs": [
    {
     "name": "stdout",
     "output_type": "stream",
     "text": [
      "     ID         Name      Date   Amount\n",
      "0  1234     John Doe  20231231   100.00\n",
      "1  5678   Jane Smith  20240115   200.50\n",
      "2  9012  Peter Jones  20240229    50.25\n",
      "3  3456   Mary Brown  20240315  4000.75\n"
     ]
    }
   ],
   "source": [
    "# Create an empty DataFrame with the same columns as dfSource\n",
    "dfDestination = pd.DataFrame(columns=dfSource.columns)\n",
    "\n",
    "def DataMappingAndTransformation(dfDestination, destination, source, destination_type):\n",
    "    if(destination_type == 'Date'):\n",
    "        dfDestination[destination] = pd.to_datetime(dfSource[source], format='%Y%m%d', errors='coerce')\n",
    "    elif(destination_type == 'Numeric'):\n",
    "        dfDestination[destination] = pd.to_numeric(dfSource[source])\n",
    "    else:\n",
    "        dfDestination[destination] = dfSource[source]\n",
    "\n",
    "for index, row in dfMapping.iterrows():\n",
    "    destination = row['Destination']\n",
    "    source = row['SourceField']\n",
    "    mapping_function = row['MappingFunction']\n",
    "    destination_type = row['DestinationType']\n",
    "    DataMappingAndTransformation(dfDestination, destination, source, destination_type)\n",
    "    \n",
    "print(dfDestination)"
   ]
  },
  {
   "cell_type": "markdown",
   "metadata": {},
   "source": [
    "#### Load into Destination"
   ]
  },
  {
   "cell_type": "code",
   "execution_count": null,
   "metadata": {},
   "outputs": [],
   "source": []
  }
 ],
 "metadata": {
  "kernelspec": {
   "display_name": ".venv",
   "language": "python",
   "name": "python3"
  },
  "language_info": {
   "codemirror_mode": {
    "name": "ipython",
    "version": 3
   },
   "file_extension": ".py",
   "mimetype": "text/x-python",
   "name": "python",
   "nbconvert_exporter": "python",
   "pygments_lexer": "ipython3",
   "version": "3.13.0"
  }
 },
 "nbformat": 4,
 "nbformat_minor": 2
}
