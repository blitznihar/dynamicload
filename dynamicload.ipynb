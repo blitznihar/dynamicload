{
 "cells": [
  {
   "cell_type": "code",
   "execution_count": 20,
   "metadata": {},
   "outputs": [
    {
     "data": {
      "application/vnd.jupyter.widget-view+json": {
       "model_id": "ef3dc8cbd3ab40649765bb879f9fdd39",
       "version_major": 2,
       "version_minor": 0
      },
      "text/plain": [
       "HBox(children=(Dropdown(description='Interface:', index=1, options=('LAWSON-0005', 'LAWSON-0006', 'LAWSON-0007…"
      ]
     },
     "metadata": {},
     "output_type": "display_data"
    }
   ],
   "source": [
    "import ipywidgets as widgets\n",
    "from IPython.display import display\n",
    "\n",
    "# Create a dropdown widget for environment selection\n",
    "interface_dropdown = widgets.Dropdown(\n",
    "    options=[\"LAWSON-0005\", \"LAWSON-0006\", \"LAWSON-0007\"],\n",
    "    value=\"LAWSON-0006\",\n",
    "    description=\"Interface:\",\n",
    ")\n",
    "\n",
    "# Display the widget\n",
    "# display(widgets.HBox([interface_dropdown, outputdirectory]))\n",
    "display(widgets.HBox([interface_dropdown]))"
   ]
  },
  {
   "cell_type": "markdown",
   "metadata": {},
   "source": [
    "### Read Configuration Data"
   ]
  },
  {
   "cell_type": "code",
   "execution_count": 21,
   "metadata": {},
   "outputs": [
    {
     "name": "stdout",
     "output_type": "stream",
     "text": [
      "LAWSON-0006\n"
     ]
    }
   ],
   "source": [
    "from sqlalchemy import create_engine\n",
    "import pandas as pd\n",
    "# Database connection parameters\n",
    "db_user = 'root'\n",
    "db_password = 'strong_password'\n",
    "db_host = 'localhost'\n",
    "db_name = 'yourdb'\n",
    "db_port = 33062\n",
    "interface_id = interface_dropdown.value\n",
    "\n",
    "# Create a database connection\n",
    "engine = create_engine(f'mysql+pymysql://{db_user}:{db_password}@{db_host}:{db_port}/{db_name}')\n",
    "print(interface_id)"
   ]
  },
  {
   "cell_type": "code",
   "execution_count": 22,
   "metadata": {},
   "outputs": [
    {
     "data": {
      "text/html": [
       "<div>\n",
       "<style scoped>\n",
       "    .dataframe tbody tr th:only-of-type {\n",
       "        vertical-align: middle;\n",
       "    }\n",
       "\n",
       "    .dataframe tbody tr th {\n",
       "        vertical-align: top;\n",
       "    }\n",
       "\n",
       "    .dataframe thead th {\n",
       "        text-align: right;\n",
       "    }\n",
       "</style>\n",
       "<table border=\"1\" class=\"dataframe\">\n",
       "  <thead>\n",
       "    <tr style=\"text-align: right;\">\n",
       "      <th></th>\n",
       "      <th>interface_id</th>\n",
       "      <th>source_system</th>\n",
       "      <th>source_type</th>\n",
       "      <th>source_path</th>\n",
       "      <th>source_delimiter</th>\n",
       "      <th>destination_system</th>\n",
       "      <th>destination_type</th>\n",
       "      <th>destination_path</th>\n",
       "      <th>program_name</th>\n",
       "      <th>mapping_id</th>\n",
       "      <th>interface_description</th>\n",
       "    </tr>\n",
       "  </thead>\n",
       "  <tbody>\n",
       "    <tr>\n",
       "      <th>0</th>\n",
       "      <td>LAWSON-0006</td>\n",
       "      <td>FILE</td>\n",
       "      <td>DELIMITED</td>\n",
       "      <td>None</td>\n",
       "      <td>,</td>\n",
       "      <td>Database</td>\n",
       "      <td>AccountDestinationTableB</td>\n",
       "      <td>None</td>\n",
       "      <td>FileToTable</td>\n",
       "      <td>MAPPING-0002</td>\n",
       "      <td>CSV File- Comma DELIMITED Testing Concept</td>\n",
       "    </tr>\n",
       "  </tbody>\n",
       "</table>\n",
       "</div>"
      ],
      "text/plain": [
       "  interface_id source_system source_type source_path source_delimiter  \\\n",
       "0  LAWSON-0006          FILE   DELIMITED        None                ,   \n",
       "\n",
       "  destination_system          destination_type destination_path program_name  \\\n",
       "0           Database  AccountDestinationTableB             None  FileToTable   \n",
       "\n",
       "     mapping_id                      interface_description  \n",
       "0  MAPPING-0002  CSV File- Comma DELIMITED Testing Concept  "
      ]
     },
     "metadata": {},
     "output_type": "display_data"
    },
    {
     "data": {
      "text/html": [
       "<div>\n",
       "<style scoped>\n",
       "    .dataframe tbody tr th:only-of-type {\n",
       "        vertical-align: middle;\n",
       "    }\n",
       "\n",
       "    .dataframe tbody tr th {\n",
       "        vertical-align: top;\n",
       "    }\n",
       "\n",
       "    .dataframe thead th {\n",
       "        text-align: right;\n",
       "    }\n",
       "</style>\n",
       "<table border=\"1\" class=\"dataframe\">\n",
       "  <thead>\n",
       "    <tr style=\"text-align: right;\">\n",
       "      <th></th>\n",
       "      <th>mapping_id</th>\n",
       "      <th>source_field</th>\n",
       "      <th>start_position</th>\n",
       "      <th>source_length</th>\n",
       "      <th>destination_field</th>\n",
       "      <th>destination_data_type</th>\n",
       "      <th>destination_length</th>\n",
       "      <th>mapping_function</th>\n",
       "    </tr>\n",
       "  </thead>\n",
       "  <tbody>\n",
       "    <tr>\n",
       "      <th>0</th>\n",
       "      <td>MAPPING-0002</td>\n",
       "      <td>ID</td>\n",
       "      <td>0</td>\n",
       "      <td>4</td>\n",
       "      <td>ID</td>\n",
       "      <td>INT</td>\n",
       "      <td>NaN</td>\n",
       "      <td>PASSTHROUGH</td>\n",
       "    </tr>\n",
       "    <tr>\n",
       "      <th>1</th>\n",
       "      <td>MAPPING-0002</td>\n",
       "      <td>Name</td>\n",
       "      <td>4</td>\n",
       "      <td>14</td>\n",
       "      <td>Name</td>\n",
       "      <td>VARCHAR</td>\n",
       "      <td>50.0</td>\n",
       "      <td>PASSTHROUGH</td>\n",
       "    </tr>\n",
       "    <tr>\n",
       "      <th>2</th>\n",
       "      <td>MAPPING-0002</td>\n",
       "      <td>Date</td>\n",
       "      <td>18</td>\n",
       "      <td>8</td>\n",
       "      <td>Date</td>\n",
       "      <td>DATE</td>\n",
       "      <td>NaN</td>\n",
       "      <td>PASSTHROUGH</td>\n",
       "    </tr>\n",
       "    <tr>\n",
       "      <th>3</th>\n",
       "      <td>MAPPING-0002</td>\n",
       "      <td>Amount</td>\n",
       "      <td>26</td>\n",
       "      <td>8</td>\n",
       "      <td>Amount</td>\n",
       "      <td>FLOAT</td>\n",
       "      <td>NaN</td>\n",
       "      <td>PASSTHROUGH</td>\n",
       "    </tr>\n",
       "  </tbody>\n",
       "</table>\n",
       "</div>"
      ],
      "text/plain": [
       "     mapping_id source_field  start_position  source_length destination_field  \\\n",
       "0  MAPPING-0002           ID               0              4                ID   \n",
       "1  MAPPING-0002         Name               4             14              Name   \n",
       "2  MAPPING-0002         Date              18              8              Date   \n",
       "3  MAPPING-0002       Amount              26              8            Amount   \n",
       "\n",
       "  destination_data_type  destination_length mapping_function  \n",
       "0                   INT                 NaN      PASSTHROUGH  \n",
       "1               VARCHAR                50.0      PASSTHROUGH  \n",
       "2                  DATE                 NaN      PASSTHROUGH  \n",
       "3                 FLOAT                 NaN      PASSTHROUGH  "
      ]
     },
     "metadata": {},
     "output_type": "display_data"
    }
   ],
   "source": [
    "# Query to read data for a specific interfaceID\n",
    "queryInterface = f\"SELECT * FROM interface WHERE interface_id = '{interface_id}'\"\n",
    "\n",
    "# Load data into dataframe\n",
    "dfInterface = pd.read_sql(queryInterface, engine)\n",
    "\n",
    "mappingId = dfInterface['mapping_id'].astype(str).to_string(index=False)\n",
    "\n",
    "# Query to read data for a specific interfaceID\n",
    "queryMapping = f\"SELECT * FROM mapping WHERE mapping_id = '{mappingId}'\"\n",
    "\n",
    "# Load data into dataframe\n",
    "dfMapping = pd.read_sql(queryMapping, engine)\n",
    "\n",
    "display(dfInterface)\n",
    "display(dfMapping)"
   ]
  },
  {
   "cell_type": "markdown",
   "metadata": {},
   "source": [
    "#### Read Fixed Length File"
   ]
  },
  {
   "cell_type": "code",
   "execution_count": 23,
   "metadata": {},
   "outputs": [
    {
     "name": "stdout",
     "output_type": "stream",
     "text": [
      "     ID         Name      Date   Amount\n",
      "0  1234     John Doe  20231231   100.00\n",
      "1  5678   Jane Smith  20240115   200.50\n",
      "2  9012  Peter Jones  20240229    50.25\n",
      "3  3456   Mary Brown  20240315  4000.75\n"
     ]
    }
   ],
   "source": [
    "import pandas as pd\n",
    "\n",
    "#LOGIC FOR FIXED WIDTH FILE\n",
    "if(dfInterface['source_type'].head(1).to_string(index=False).upper()):\n",
    "    colspecs = [(row['start_position'], row['start_position'] + row['source_length']) for index, row in dfMapping.iterrows() if row['source_field'] is not None]\n",
    "    names = [row['source_field'] for index, row in dfMapping.iterrows() if row['source_field'] is not None]  # Column names\n",
    "    dfSource = pd.read_fwf('SourceFileFixedWidth.dat', colspecs=colspecs, names=names, header=None)\n",
    "\n",
    "#LOGIC FOR DELIMITED FILE\n",
    "elif(dfInterface['source_type'].to_string(index=False).upper() == 'DELIMITED'):\n",
    "    delimiter = dfMapping['source_delimiter'].to_string(index=False)\n",
    "    names = [row['source_field'] for index, row in dfMapping.iterrows() if row['source_field'] is not None]  # Column names\n",
    "    dfSource = pd.read_csv('Delimited.dat', delimiter=delimiter, names=names, header=None)\n",
    "#dfSource = pd.read_csv('SourceFileDelimited.dat', delimiter='|', names=names, header=None)\n",
    "\n",
    "print(dfSource)"
   ]
  },
  {
   "cell_type": "markdown",
   "metadata": {},
   "source": [
    "#### Map to Destination"
   ]
  },
  {
   "cell_type": "code",
   "execution_count": 24,
   "metadata": {},
   "outputs": [
    {
     "name": "stdout",
     "output_type": "stream",
     "text": [
      "SELECT ID,Name,Date,Amount FROM dfSource\n",
      "ID,Name,Date,Amount\n"
     ]
    }
   ],
   "source": [
    "# Create an empty DataFrame with the same columns as dfSource\n",
    "dfDestination = pd.DataFrame(columns=dfSource.columns)\n",
    "#Solidify the Mapping logic and data transformation\n",
    "    \n",
    "\n",
    "destinationFields = ''\n",
    "for index, row in dfMapping.iterrows():\n",
    "    destination = row['destination_field']\n",
    "    source = row['source_field']\n",
    "    mapping_function = row['mapping_function']\n",
    "    destination_type = row['destination_data_type']\n",
    "    if mapping_function == 'PASSTHROUGH':\n",
    "        if index == len(dfMapping) - 1:\n",
    "            destinationFields += destination\n",
    "        else:\n",
    "            destinationFields += destination + ','\n",
    "    else:\n",
    "        if index == len(dfMapping) - 1:\n",
    "            destinationFields += f'{mapping_function} AS {destination}'\n",
    "        else:\n",
    "            destinationFields += f'{mapping_function} AS {destination},'\n",
    "\n",
    "destinationQuery = f\"SELECT {destinationFields} FROM dfSource\"\n",
    "print(destinationQuery)\n",
    "print(destinationFields)"
   ]
  },
  {
   "cell_type": "code",
   "execution_count": 25,
   "metadata": {},
   "outputs": [
    {
     "name": "stdout",
     "output_type": "stream",
     "text": [
      "     ID         Name      Date   Amount\n",
      "0  1234     John Doe  20231231   100.00\n",
      "1  5678   Jane Smith  20240115   200.50\n",
      "2  9012  Peter Jones  20240229    50.25\n",
      "3  3456   Mary Brown  20240315  4000.75\n"
     ]
    }
   ],
   "source": [
    "import pandasql as psql\n",
    "\n",
    "dfDestination = psql.sqldf(destinationQuery, globals())\n",
    "\n",
    "print(dfDestination)"
   ]
  },
  {
   "cell_type": "markdown",
   "metadata": {},
   "source": [
    "#### Load into Destination"
   ]
  },
  {
   "cell_type": "code",
   "execution_count": 26,
   "metadata": {},
   "outputs": [
    {
     "name": "stdout",
     "output_type": "stream",
     "text": [
      "AccountDestinationTableB\n",
      "Data loaded into table AccountDestinationTableB successfully.\n"
     ]
    }
   ],
   "source": [
    "# Extract the destination table name from the interface table\n",
    "destination_table = dfInterface['destination_type'].iloc[0]\n",
    "print(destination_table)\n",
    "# Load the dataframe into the SQL table\n",
    "dfDestination.to_sql(destination_table, engine, if_exists='replace', index=False)\n",
    "\n",
    "print(f\"Data loaded into table {destination_table} successfully.\")"
   ]
  }
 ],
 "metadata": {
  "kernelspec": {
   "display_name": ".venv",
   "language": "python",
   "name": "python3"
  },
  "language_info": {
   "codemirror_mode": {
    "name": "ipython",
    "version": 3
   },
   "file_extension": ".py",
   "mimetype": "text/x-python",
   "name": "python",
   "nbconvert_exporter": "python",
   "pygments_lexer": "ipython3",
   "version": "3.13.0"
  }
 },
 "nbformat": 4,
 "nbformat_minor": 2
}
